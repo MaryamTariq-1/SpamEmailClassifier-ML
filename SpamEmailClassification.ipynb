{
 "cells": [
  {
   "cell_type": "markdown",
   "id": "6d0a129d-7ce8-48cd-883e-862cc2410850",
   "metadata": {},
   "source": [
    "# Machine Learning\n",
    "## Spam Email Classification"
   ]
  },
  {
   "cell_type": "code",
   "execution_count": 29,
   "id": "3f4f650b-eca3-4291-a353-2bd4cff99c05",
   "metadata": {},
   "outputs": [],
   "source": [
    "import pandas as pd\n",
    "import numpy as np\n",
    "import matplotlib.pyplot as plt\n",
    "import seaborn as sns\n",
    "from sklearn.model_selection import train_test_split, cross_val_score\n",
    "from sklearn.feature_extraction.text import CountVectorizer, TfidfVectorizer\n",
    "from sklearn.preprocessing import LabelEncoder\n",
    "from sklearn.linear_model import LogisticRegression\n",
    "from sklearn.tree import DecisionTreeClassifier\n",
    "from sklearn.svm import SVC\n",
    "from sklearn.ensemble import RandomForestClassifier, GradientBoostingClassifier\n",
    "from sklearn.metrics import accuracy_score, precision_score, recall_score, f1_score, confusion_matrix\n"
   ]
  },
  {
   "cell_type": "markdown",
   "id": "de4b2f92-6d9c-4a6a-9c32-5f31068c643e",
   "metadata": {},
   "source": [
    "### Data Loading and Overview"
   ]
  },
  {
   "cell_type": "code",
   "execution_count": 30,
   "id": "6b11d937-86de-4ae2-9879-54b56add98bc",
   "metadata": {},
   "outputs": [
    {
     "data": {
      "text/html": [
       "<div>\n",
       "<style scoped>\n",
       "    .dataframe tbody tr th:only-of-type {\n",
       "        vertical-align: middle;\n",
       "    }\n",
       "\n",
       "    .dataframe tbody tr th {\n",
       "        vertical-align: top;\n",
       "    }\n",
       "\n",
       "    .dataframe thead th {\n",
       "        text-align: right;\n",
       "    }\n",
       "</style>\n",
       "<table border=\"1\" class=\"dataframe\">\n",
       "  <thead>\n",
       "    <tr style=\"text-align: right;\">\n",
       "      <th></th>\n",
       "      <th>Email No.</th>\n",
       "      <th>the</th>\n",
       "      <th>to</th>\n",
       "      <th>ect</th>\n",
       "      <th>and</th>\n",
       "      <th>for</th>\n",
       "      <th>of</th>\n",
       "      <th>a</th>\n",
       "      <th>you</th>\n",
       "      <th>hou</th>\n",
       "      <th>...</th>\n",
       "      <th>connevey</th>\n",
       "      <th>jay</th>\n",
       "      <th>valued</th>\n",
       "      <th>lay</th>\n",
       "      <th>infrastructure</th>\n",
       "      <th>military</th>\n",
       "      <th>allowing</th>\n",
       "      <th>ff</th>\n",
       "      <th>dry</th>\n",
       "      <th>Prediction</th>\n",
       "    </tr>\n",
       "  </thead>\n",
       "  <tbody>\n",
       "    <tr>\n",
       "      <th>0</th>\n",
       "      <td>Email 1</td>\n",
       "      <td>0</td>\n",
       "      <td>0</td>\n",
       "      <td>1</td>\n",
       "      <td>0</td>\n",
       "      <td>0</td>\n",
       "      <td>0</td>\n",
       "      <td>2</td>\n",
       "      <td>0</td>\n",
       "      <td>0</td>\n",
       "      <td>...</td>\n",
       "      <td>0</td>\n",
       "      <td>0</td>\n",
       "      <td>0</td>\n",
       "      <td>0</td>\n",
       "      <td>0</td>\n",
       "      <td>0</td>\n",
       "      <td>0</td>\n",
       "      <td>0</td>\n",
       "      <td>0</td>\n",
       "      <td>0</td>\n",
       "    </tr>\n",
       "    <tr>\n",
       "      <th>1</th>\n",
       "      <td>Email 2</td>\n",
       "      <td>8</td>\n",
       "      <td>13</td>\n",
       "      <td>24</td>\n",
       "      <td>6</td>\n",
       "      <td>6</td>\n",
       "      <td>2</td>\n",
       "      <td>102</td>\n",
       "      <td>1</td>\n",
       "      <td>27</td>\n",
       "      <td>...</td>\n",
       "      <td>0</td>\n",
       "      <td>0</td>\n",
       "      <td>0</td>\n",
       "      <td>0</td>\n",
       "      <td>0</td>\n",
       "      <td>0</td>\n",
       "      <td>0</td>\n",
       "      <td>1</td>\n",
       "      <td>0</td>\n",
       "      <td>0</td>\n",
       "    </tr>\n",
       "    <tr>\n",
       "      <th>2</th>\n",
       "      <td>Email 3</td>\n",
       "      <td>0</td>\n",
       "      <td>0</td>\n",
       "      <td>1</td>\n",
       "      <td>0</td>\n",
       "      <td>0</td>\n",
       "      <td>0</td>\n",
       "      <td>8</td>\n",
       "      <td>0</td>\n",
       "      <td>0</td>\n",
       "      <td>...</td>\n",
       "      <td>0</td>\n",
       "      <td>0</td>\n",
       "      <td>0</td>\n",
       "      <td>0</td>\n",
       "      <td>0</td>\n",
       "      <td>0</td>\n",
       "      <td>0</td>\n",
       "      <td>0</td>\n",
       "      <td>0</td>\n",
       "      <td>0</td>\n",
       "    </tr>\n",
       "    <tr>\n",
       "      <th>3</th>\n",
       "      <td>Email 4</td>\n",
       "      <td>0</td>\n",
       "      <td>5</td>\n",
       "      <td>22</td>\n",
       "      <td>0</td>\n",
       "      <td>5</td>\n",
       "      <td>1</td>\n",
       "      <td>51</td>\n",
       "      <td>2</td>\n",
       "      <td>10</td>\n",
       "      <td>...</td>\n",
       "      <td>0</td>\n",
       "      <td>0</td>\n",
       "      <td>0</td>\n",
       "      <td>0</td>\n",
       "      <td>0</td>\n",
       "      <td>0</td>\n",
       "      <td>0</td>\n",
       "      <td>0</td>\n",
       "      <td>0</td>\n",
       "      <td>0</td>\n",
       "    </tr>\n",
       "    <tr>\n",
       "      <th>4</th>\n",
       "      <td>Email 5</td>\n",
       "      <td>7</td>\n",
       "      <td>6</td>\n",
       "      <td>17</td>\n",
       "      <td>1</td>\n",
       "      <td>5</td>\n",
       "      <td>2</td>\n",
       "      <td>57</td>\n",
       "      <td>0</td>\n",
       "      <td>9</td>\n",
       "      <td>...</td>\n",
       "      <td>0</td>\n",
       "      <td>0</td>\n",
       "      <td>0</td>\n",
       "      <td>0</td>\n",
       "      <td>0</td>\n",
       "      <td>0</td>\n",
       "      <td>0</td>\n",
       "      <td>1</td>\n",
       "      <td>0</td>\n",
       "      <td>0</td>\n",
       "    </tr>\n",
       "  </tbody>\n",
       "</table>\n",
       "<p>5 rows × 3002 columns</p>\n",
       "</div>"
      ],
      "text/plain": [
       "  Email No.  the  to  ect  and  for  of    a  you  hou  ...  connevey  jay  \\\n",
       "0   Email 1    0   0    1    0    0   0    2    0    0  ...         0    0   \n",
       "1   Email 2    8  13   24    6    6   2  102    1   27  ...         0    0   \n",
       "2   Email 3    0   0    1    0    0   0    8    0    0  ...         0    0   \n",
       "3   Email 4    0   5   22    0    5   1   51    2   10  ...         0    0   \n",
       "4   Email 5    7   6   17    1    5   2   57    0    9  ...         0    0   \n",
       "\n",
       "   valued  lay  infrastructure  military  allowing  ff  dry  Prediction  \n",
       "0       0    0               0         0         0   0    0           0  \n",
       "1       0    0               0         0         0   1    0           0  \n",
       "2       0    0               0         0         0   0    0           0  \n",
       "3       0    0               0         0         0   0    0           0  \n",
       "4       0    0               0         0         0   1    0           0  \n",
       "\n",
       "[5 rows x 3002 columns]"
      ]
     },
     "execution_count": 30,
     "metadata": {},
     "output_type": "execute_result"
    }
   ],
   "source": [
    "# Load the dataset\n",
    "data = pd.read_csv('emails.csv')\n",
    "\n",
    "# Display the first few rows of the dataset\n",
    "data.head(5)\n"
   ]
  },
  {
   "cell_type": "markdown",
   "id": "2b27925b-be1f-4bf3-bed9-5cd42aa9c91e",
   "metadata": {},
   "source": [
    "### Handling Missing Values"
   ]
  },
  {
   "cell_type": "code",
   "execution_count": 31,
   "id": "776b6938-9da2-4f70-9b54-54200ec7868a",
   "metadata": {},
   "outputs": [
    {
     "data": {
      "text/plain": [
       "Email No.     0\n",
       "the           0\n",
       "to            0\n",
       "ect           0\n",
       "and           0\n",
       "             ..\n",
       "military      0\n",
       "allowing      0\n",
       "ff            0\n",
       "dry           0\n",
       "Prediction    0\n",
       "Length: 3002, dtype: int64"
      ]
     },
     "execution_count": 31,
     "metadata": {},
     "output_type": "execute_result"
    }
   ],
   "source": [
    "# Check for missing values\n",
    "data.isnull().sum()\n"
   ]
  },
  {
   "cell_type": "code",
   "execution_count": 32,
   "id": "4e1c6052-2402-47e7-aa8d-8c963728182c",
   "metadata": {},
   "outputs": [],
   "source": [
    "# Drop rows with missing values if any\n",
    "data.dropna(inplace=True)"
   ]
  },
  {
   "cell_type": "markdown",
   "id": "b6ae7a9c-04e8-4692-a5fe-1a1a508afa8a",
   "metadata": {},
   "source": [
    "### Preprocessing the Dataset"
   ]
  },
  {
   "cell_type": "code",
   "execution_count": 33,
   "id": "61f91e48-a010-4703-bf38-fd23f8a025b0",
   "metadata": {},
   "outputs": [],
   "source": [
    "# Combine text columns into a single column\n",
    "text_columns = data.columns[:-1]  # Assuming the last column is the target 'Prediction'\n",
    "data['text'] = data[text_columns].apply(lambda x: ' '.join(x.dropna().astype(str)), axis=1)"
   ]
  },
  {
   "cell_type": "markdown",
   "id": "47e37771-69e6-4832-b5c0-d611a9d5e4eb",
   "metadata": {},
   "source": [
    "### Encode the Target Variable"
   ]
  },
  {
   "cell_type": "code",
   "execution_count": 34,
   "id": "49480f28-a466-42a8-bc1e-b0ab666e22a6",
   "metadata": {},
   "outputs": [],
   "source": [
    "# Encode the target variable\n",
    "label_encoder = LabelEncoder()\n",
    "data['Prediction'] = label_encoder.fit_transform(data['Prediction'])\n"
   ]
  },
  {
   "cell_type": "markdown",
   "id": "42f9e06a-9927-4695-bb40-2961a603171c",
   "metadata": {},
   "source": [
    "### Split the Data into Features and Target"
   ]
  },
  {
   "cell_type": "code",
   "execution_count": 35,
   "id": "e603c90f-cfbb-4562-9917-5633bffb2b7a",
   "metadata": {},
   "outputs": [],
   "source": [
    "# Split the dataset into features (X) and target (y)\n",
    "X = data['text']\n",
    "y = data['Prediction']\n"
   ]
  },
  {
   "cell_type": "markdown",
   "id": "0eae3722-141e-42a7-8caa-ce7b3a50334c",
   "metadata": {},
   "source": [
    "### Convert Text Data into Numerical Data"
   ]
  },
  {
   "cell_type": "code",
   "execution_count": 36,
   "id": "69a827ce-b728-4de0-a7c9-246a08dc9aa8",
   "metadata": {},
   "outputs": [],
   "source": [
    "# Convert text data into numerical data using TfidfVectorizer\n",
    "vectorizer = TfidfVectorizer(stop_words='english')\n",
    "X = vectorizer.fit_transform(X)\n"
   ]
  },
  {
   "cell_type": "markdown",
   "id": "30884667-d110-432b-a732-992533ee49a7",
   "metadata": {},
   "source": [
    "### Split the Data into Training and Testing Sets"
   ]
  },
  {
   "cell_type": "code",
   "execution_count": 37,
   "id": "330878e8-e055-4233-8ece-250f89ac314c",
   "metadata": {},
   "outputs": [],
   "source": [
    "# Split the dataset into training and testing sets\n",
    "X_train, X_test, y_train, y_test = train_test_split(X, y, test_size=0.2, random_state=42)\n"
   ]
  },
  {
   "cell_type": "markdown",
   "id": "35a403ee-16cb-47be-8a78-6f1a3e39ce82",
   "metadata": {},
   "source": [
    "### Initialize Models"
   ]
  },
  {
   "cell_type": "code",
   "execution_count": 38,
   "id": "3bd53820-67af-4690-8355-47d728065a7f",
   "metadata": {},
   "outputs": [],
   "source": [
    "# Initialize models\n",
    "models = {\n",
    "    'Logistic Regression': LogisticRegression(max_iter=1000),\n",
    "    'Decision Tree': DecisionTreeClassifier(),\n",
    "    'Support Vector Machine': SVC(),\n",
    "    'Random Forest': RandomForestClassifier(),\n",
    "    'Gradient Boosting': GradientBoostingClassifier()\n",
    "}\n"
   ]
  },
  {
   "cell_type": "markdown",
   "id": "6548b9f0-9ee5-45fa-b3e0-4c3df3a411dc",
   "metadata": {},
   "source": [
    "### Train and Evaluate Each Model"
   ]
  },
  {
   "cell_type": "code",
   "execution_count": 39,
   "id": "9bb0e67d-8357-4a9e-a67d-aed15452b37b",
   "metadata": {},
   "outputs": [
    {
     "name": "stdout",
     "output_type": "stream",
     "text": [
      "Logistic Regression - Accuracy: 0.71, Precision: 1.00, Recall: 0.00, F1 Score: 0.01\n",
      "Decision Tree - Accuracy: 0.66, Precision: 0.38, Recall: 0.30, F1 Score: 0.33\n",
      "Support Vector Machine - Accuracy: 0.71, Precision: 1.00, Recall: 0.00, F1 Score: 0.01\n",
      "Random Forest - Accuracy: 0.72, Precision: 0.92, Recall: 0.04, F1 Score: 0.07\n",
      "Gradient Boosting - Accuracy: 0.71, Precision: 0.49, Recall: 0.07, F1 Score: 0.12\n"
     ]
    }
   ],
   "source": [
    "# Train and evaluate each model\n",
    "for name, model in models.items():\n",
    "    model.fit(X_train, y_train)\n",
    "    y_pred = model.predict(X_test)\n",
    "    accuracy = accuracy_score(y_test, y_pred)\n",
    "    precision = precision_score(y_test, y_pred)\n",
    "    recall = recall_score(y_test, y_pred)\n",
    "    f1 = f1_score(y_test, y_pred)\n",
    "    print(f\"{name} - Accuracy: {accuracy:.2f}, Precision: {precision:.2f}, Recall: {recall:.2f}, F1 Score: {f1:.2f}\")\n"
   ]
  },
  {
   "cell_type": "markdown",
   "id": "e8bc0319-e3ec-4559-9196-313017343335",
   "metadata": {},
   "source": [
    "### Select the Best Model Based on F1 Score"
   ]
  },
  {
   "cell_type": "code",
   "execution_count": 40,
   "id": "40e7e15f-6295-483b-8120-7ef538621b41",
   "metadata": {},
   "outputs": [],
   "source": [
    "# Select the best model based on F1 Score (for example, Logistic Regression)\n",
    "best_model = LogisticRegression(max_iter=1000)\n",
    "best_model.fit(X_train, y_train)\n",
    "y_pred_best = best_model.predict(X_test)\n"
   ]
  },
  {
   "cell_type": "markdown",
   "id": "0fcaa7e3-a9f0-4fb2-bd55-5e22b47889c7",
   "metadata": {},
   "source": [
    "### Calculate Evaluation Metrics for the Best Model"
   ]
  },
  {
   "cell_type": "code",
   "execution_count": 41,
   "id": "c04d9720-3b1a-41a4-922d-854078a677a3",
   "metadata": {},
   "outputs": [
    {
     "name": "stdout",
     "output_type": "stream",
     "text": [
      "Best Model - Accuracy: 0.71, Precision: 1.00, Recall: 0.00, F1 Score: 0.01\n"
     ]
    }
   ],
   "source": [
    "# Calculate evaluation metrics\n",
    "accuracy_best = accuracy_score(y_test, y_pred_best)\n",
    "precision_best = precision_score(y_test, y_pred_best)\n",
    "recall_best = recall_score(y_test, y_pred_best)\n",
    "f1_best = f1_score(y_test, y_pred_best)\n",
    "\n",
    "print(f\"Best Model - Accuracy: {accuracy_best:.2f}, Precision: {precision_best:.2f}, Recall: {recall_best:.2f}, F1 Score: {f1_best:.2f}\")\n"
   ]
  },
  {
   "cell_type": "markdown",
   "id": "a1232ac0-d304-4f90-b439-ed41ed3428ca",
   "metadata": {},
   "source": [
    "### Confusion Matrix"
   ]
  },
  {
   "cell_type": "code",
   "execution_count": 42,
   "id": "c650222f-a729-49f0-b50b-3796467a2e12",
   "metadata": {},
   "outputs": [
    {
     "data": {
      "image/png": "[encoded data removed]",
      "text/plain": [
       "<Figure size 640x480 with 2 Axes>"
      ]
     },
     "metadata": {},
     "output_type": "display_data"
    }
   ],
   "source": [
    "# Plot confusion matrix\n",
    "conf_matrix = confusion_matrix(y_test, y_pred_best)\n",
    "sns.heatmap(conf_matrix, annot=True, fmt='d', cmap='Blues', xticklabels=label_encoder.classes_, yticklabels=label_encoder.classes_)\n",
    "plt.xlabel('Predicted')\n",
    "plt.ylabel('Actual')\n",
    "plt.title('Confusion Matrix')\n",
    "plt.show()\n"
   ]
  },
  {
   "cell_type": "markdown",
   "id": "86033386-6701-48aa-8368-068026c9677b",
   "metadata": {},
   "source": [
    "### Cross-Validation"
   ]
  },
  {
   "cell_type": "code",
   "execution_count": 43,
   "id": "fa8e4e03-ada8-40de-989d-0101aef34dc2",
   "metadata": {},
   "outputs": [
    {
     "name": "stdout",
     "output_type": "stream",
     "text": [
      "Cross-Validation F1 Scores: [0.05047319 0.04516129 0.02614379 0.00660066 0.04388715]\n",
      "Mean Cross-Validation F1 Score: 0.03\n"
     ]
    }
   ],
   "source": [
    "# Perform cross-validation\n",
    "cross_val_scores = cross_val_score(best_model, X, y, cv=5, scoring='f1')\n",
    "print(f\"Cross-Validation F1 Scores: {cross_val_scores}\")\n",
    "print(f\"Mean Cross-Validation F1 Score: {cross_val_scores.mean():.2f}\")\n"
   ]
  },
  {
   "cell_type": "markdown",
   "id": "f2a951a7-fdb1-40f5-8dca-9bf4a9a863c4",
   "metadata": {},
   "source": [
    "### Hyperparameter Tuning"
   ]
  },
  {
   "cell_type": "code",
   "execution_count": 44,
   "id": "a20d92bc-99da-4211-86c1-2b267fbb23ed",
   "metadata": {},
   "outputs": [
    {
     "name": "stdout",
     "output_type": "stream",
     "text": [
      "Best Parameters: {'C': 100, 'solver': 'liblinear'}\n",
      "Tuned Model - Accuracy: 0.70, Precision: 0.42, Recall: 0.12, F1 Score: 0.18\n"
     ]
    }
   ],
   "source": [
    "from sklearn.model_selection import GridSearchCV\n",
    "\n",
    "# Define hyperparameters to tune\n",
    "param_grid = {\n",
    "    'C': [0.1, 1, 10, 100], \n",
    "    'solver': ['lbfgs', 'liblinear']\n",
    "}\n",
    "\n",
    "# Initialize GridSearchCV\n",
    "grid_search = GridSearchCV(LogisticRegression(max_iter=1000), param_grid, cv=5, scoring='f1', n_jobs=-1)\n",
    "grid_search.fit(X_train, y_train)\n",
    "\n",
    "# Get the best parameters\n",
    "best_params = grid_search.best_params_\n",
    "print(f\"Best Parameters: {best_params}\")\n",
    "\n",
    "# Train the best model with the best parameters\n",
    "best_model_tuned = LogisticRegression(max_iter=1000, C=best_params['C'], solver=best_params['solver'])\n",
    "best_model_tuned.fit(X_train, y_train)\n",
    "y_pred_best_tuned = best_model_tuned.predict(X_test)\n",
    "\n",
    "# Calculate evaluation metrics for the tuned model\n",
    "accuracy_best_tuned = accuracy_score(y_test, y_pred_best_tuned)\n",
    "precision_best_tuned = precision_score(y_test, y_pred_best_tuned)\n",
    "recall_best_tuned = recall_score(y_test, y_pred_best_tuned)\n",
    "f1_best_tuned = f1_score(y_test, y_pred_best_tuned)\n",
    "\n",
    "print(f\"Tuned Model - Accuracy: {accuracy_best_tuned:.2f}, Precision: {precision_best_tuned:.2f}, Recall: {recall_best_tuned:.2f}, F1 Score: {f1_best_tuned:.2f}\")\n"
   ]
  },
  {
   "cell_type": "markdown",
   "id": "e82fa64c-0a96-498f-8961-9b88f1389f6b",
   "metadata": {},
   "source": [
    "### ROC Curve"
   ]
  },
  {
   "cell_type": "code",
   "execution_count": 45,
   "id": "aed8808e-323d-47c6-a0c5-208af23d80ee",
   "metadata": {},
   "outputs": [
    {
     "data": {
      "image/png": "[encoded data removed]",
      "text/plain": [
       "<Figure size 640x480 with 1 Axes>"
      ]
     },
     "metadata": {},
     "output_type": "display_data"
    }
   ],
   "source": [
    "from sklearn.metrics import confusion_matrix, roc_curve, auc\n",
    "import matplotlib.pyplot as plt\n",
    "import seaborn as sns\n",
    "\n",
    "# ROC Curve\n",
    "fpr, tpr, _ = roc_curve(y_test, best_model_tuned.predict_proba(X_test)[:, 1])\n",
    "roc_auc = auc(fpr, tpr)\n",
    "plt.figure()\n",
    "plt.plot(fpr, tpr, color='darkorange', lw=2, label=f'ROC curve (area = {roc_auc:.2f})')\n",
    "plt.plot([0, 1], [0, 1], color='navy', lw=2, linestyle='--')\n",
    "plt.xlim([0.0, 1.0])\n",
    "plt.ylim([0.0, 1.05])\n",
    "plt.xlabel('False Positive Rate')\n",
    "plt.ylabel('True Positive Rate')\n",
    "plt.title('Receiver Operating Characteristic (ROC) Curve')\n",
    "plt.legend(loc='lower right')\n",
    "plt.show()\n"
   ]
  },
  {
   "cell_type": "markdown",
   "id": "38cd4618-eced-49bf-86b5-8557435eb1ec",
   "metadata": {},
   "source": [
    "### Save the Model and Vectorizer"
   ]
  },
  {
   "cell_type": "code",
   "execution_count": 46,
   "id": "62b0c83a-217d-4153-9d60-778dd098710f",
   "metadata": {},
   "outputs": [
    {
     "data": {
      "text/plain": [
       "['spam_classifier_model.pkl']"
      ]
     },
     "execution_count": 46,
     "metadata": {},
     "output_type": "execute_result"
    }
   ],
   "source": [
    "import joblib\n",
    "\n",
    "# Save the TfidfVectorizer\n",
    "joblib.dump(vectorizer, 'tfidf_vectorizer.pkl')\n",
    "\n",
    "# Save the best model\n",
    "joblib.dump(best_model_tuned, 'spam_classifier_model.pkl')\n"
   ]
  },
  {
   "cell_type": "markdown",
   "id": "c4393917-2893-445b-a68f-d8931c71a774",
   "metadata": {},
   "source": [
    "### Load and Use the Model for Predictions"
   ]
  },
  {
   "cell_type": "code",
   "execution_count": 47,
   "id": "ff386a2c-8b78-4fed-aa33-e665e280d03b",
   "metadata": {},
   "outputs": [
    {
     "name": "stdout",
     "output_type": "stream",
     "text": [
      "Not Spam\n"
     ]
    }
   ],
   "source": [
    "# Load the vectorizer and model\n",
    "vectorizer = joblib.load('tfidf_vectorizer.pkl')\n",
    "model = joblib.load('spam_classifier_model.pkl')\n",
    "\n",
    "# Function to predict if a given email is spam or not\n",
    "def predict_spam(text):\n",
    "    text_transformed = vectorizer.transform([text])\n",
    "    prediction = model.predict(text_transformed)\n",
    "    return 'Spam' if prediction == 1 else 'Not Spam'\n",
    "\n",
    "# Example usage\n",
    "new_email = \"Congratulations! You've won a free lottery ticket. Click here to claim your prize.\"\n",
    "print(predict_spam(new_email))\n"
   ]
  },
  {
   "cell_type": "markdown",
   "id": "fef20e02-87c1-4fbd-a669-fedff1caf7fa",
   "metadata": {},
   "source": [
    "### Create Pipeline"
   ]
  },
  {
   "cell_type": "code",
   "execution_count": 48,
   "id": "2bba880c-ac15-4b58-b5d2-0b6f8e7f7013",
   "metadata": {},
   "outputs": [
    {
     "name": "stdout",
     "output_type": "stream",
     "text": [
      "Pipeline - Accuracy: 0.70, Precision: 0.40, Recall: 0.13, F1 Score: 0.19\n"
     ]
    },
    {
     "data": {
      "text/plain": [
       "['spam_classifier_pipeline.pkl']"
      ]
     },
     "execution_count": 48,
     "metadata": {},
     "output_type": "execute_result"
    }
   ],
   "source": [
    "from sklearn.pipeline import Pipeline\n",
    "import joblib\n",
    "\n",
    "# Re-define X_train and X_test using the original text data\n",
    "X_train_text, X_test_text, y_train, y_test = train_test_split(data['text'], y, test_size=0.2, random_state=42)\n",
    "\n",
    "# Create a pipeline\n",
    "pipeline = Pipeline([\n",
    "    ('vectorizer', TfidfVectorizer(stop_words='english')),\n",
    "    ('classifier', LogisticRegression(max_iter=1000, C=best_params['C'], solver=best_params['solver']))\n",
    "])\n",
    "\n",
    "# Train the pipeline\n",
    "pipeline.fit(X_train_text, y_train)\n",
    "\n",
    "# Evaluate the pipeline\n",
    "y_pred_pipeline = pipeline.predict(X_test_text)\n",
    "accuracy_pipeline = accuracy_score(y_test, y_pred_pipeline)\n",
    "precision_pipeline = precision_score(y_test, y_pred_pipeline)\n",
    "recall_pipeline = recall_score(y_test, y_pred_pipeline)\n",
    "f1_pipeline = f1_score(y_test, y_pred_pipeline)\n",
    "\n",
    "print(f\"Pipeline - Accuracy: {accuracy_pipeline:.2f}, Precision: {precision_pipeline:.2f}, Recall: {recall_pipeline:.2f}, F1 Score: {f1_pipeline:.2f}\")\n",
    "\n",
    "# Save the pipeline\n",
    "joblib.dump(pipeline, 'spam_classifier_pipeline.pkl')\n"
   ]
  },
  {
   "cell_type": "markdown",
   "id": "26f7417f-4768-4de2-926a-3afd4442b6ad",
   "metadata": {},
   "source": [
    "# Spam Email Classification Project\n",
    "\n",
    "## Introduction\n",
    "The goal of this project was to build a classification model to identify spam emails. We used a dataset of emails labeled as spam or not spam.\n",
    "\n",
    "## Data Preparation\n",
    "We handled missing values, encoded categorical variables, and vectorized the text data using TfidfVectorizer.\n",
    "\n",
    "## Model Selection and Training\n",
    "We explored various classification algorithms, including Logistic Regression, Decision Trees, and Support Vector Machines. After hyperparameter tuning, we selected the best model based on evaluation metrics.\n",
    "\n",
    "## Model Evaluation\n",
    "The best model was evaluated using accuracy, precision, recall, and F1-score. The performance was visualized using confusion matrices and ROC curves.\n",
    "\n",
    "## Conclusion\n",
    "The Logistic Regression model with tuned hyperparameters performed the best with an accuracy of XX%, precision of XX%, recall of XX%, and F1-score of XX%. This model can be further improved with more data and advanced techniques like ensemble methods.\n",
    "\n",
    "## Future Work\n",
    "Future work could include:\n",
    "- Collecting more data to improve model performance.\n",
    "- Trying advanced models like Random Forest or Gradient Boosting.\n",
    "- Deploying the model as an API for real-time predictions.\n"
   ]
  }
 ],
 "metadata": {
  "kernelspec": {
   "display_name": "Python 3 (ipykernel)",
   "language": "python",
   "name": "python3"
  },
  "language_info": {
   "codemirror_mode": {
    "name": "ipython",
    "version": 3
   },
   "file_extension": ".py",
   "mimetype": "text/x-python",
   "name": "python",
   "nbconvert_exporter": "python",
   "pygments_lexer": "ipython3",
   "version": "3.12.3"
  }
 },
 "nbformat": 4,
 "nbformat_minor": 5
}
